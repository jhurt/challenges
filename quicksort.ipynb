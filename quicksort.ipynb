{
 "cells": [
  {
   "cell_type": "code",
   "execution_count": null,
   "metadata": {},
   "outputs": [],
   "source": [
    "# The quick sort uses divide and conquer to gain the same advantages as the merge sort, \n",
    "# while not using additional storage. As a trade-off, however, it is possible that \n",
    "# the list may not be divided in half. When this happens, we will see that performance is diminished.\n",
    "# quicksort saves memory but is 0(n^2) in the worst case"
   ]
  },
  {
   "cell_type": "code",
   "execution_count": null,
   "metadata": {},
   "outputs": [],
   "source": [
    "import random\n",
    "\n",
    "my_list = []\n",
    "for i in range(100):\n",
    "    my_list.append(random.randint(1, 1000))\n",
    "my_list"
   ]
  },
  {
   "cell_type": "code",
   "execution_count": null,
   "metadata": {},
   "outputs": [],
   "source": [
    "def quick_sort(list_in, first_index, last_index):\n",
    "   if first_index < last_index:\n",
    "       split_point = partition(list_in, first_index, last_index)\n",
    "       quick_sort(list_in, first_index, split_point - 1)\n",
    "       quick_sort(list_in, split_point + 1, last_index)\n",
    "\n",
    "\n",
    "def partition(list_in, first_index, last_index):\n",
    "   pivot_value = list_in[first_index]\n",
    "\n",
    "   left_marker = first_index + 1\n",
    "   right_marker = last_index\n",
    "\n",
    "   is_sorted = False\n",
    "   while not is_sorted:\n",
    "\n",
    "       while left_marker <= right_marker and list_in[left_marker] <= pivot_value:\n",
    "           left_marker += 1\n",
    "\n",
    "       while list_in[right_marker] >= pivot_value and right_marker >= left_marker:\n",
    "           right_marker -= 1\n",
    "\n",
    "       if right_marker < left_marker:\n",
    "           is_sorted = True\n",
    "       else:\n",
    "           temp = list_in[left_marker]\n",
    "           list_in[left_marker] = list_in[right_marker]\n",
    "           list_in[right_marker] = temp\n",
    "\n",
    "   temp = list_in[first_index]\n",
    "   list_in[first_index] = list_in[right_marker]\n",
    "   list_in[right_marker] = temp\n",
    "\n",
    "   return right_marker\n",
    "\n",
    "quick_sort(my_list, 0, len(my_list) - 1)\n",
    "my_list"
   ]
  },
  {
   "cell_type": "code",
   "execution_count": null,
   "metadata": {},
   "outputs": [],
   "source": []
  }
 ],
 "metadata": {
  "kernelspec": {
   "display_name": "Python 3",
   "language": "python",
   "name": "python3"
  },
  "language_info": {
   "codemirror_mode": {
    "name": "ipython",
    "version": 3
   },
   "file_extension": ".py",
   "mimetype": "text/x-python",
   "name": "python",
   "nbconvert_exporter": "python",
   "pygments_lexer": "ipython3",
   "version": "3.6.4"
  }
 },
 "nbformat": 4,
 "nbformat_minor": 2
}
