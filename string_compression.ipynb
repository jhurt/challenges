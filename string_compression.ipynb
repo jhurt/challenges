{
 "cells": [
  {
   "cell_type": "code",
   "execution_count": null,
   "metadata": {},
   "outputs": [],
   "source": [
    "#Implement a method to perform basic string compression using the counts of repeated characters. \n",
    "#For example, the string aabcccccaaa would become a2blc5a3. \n",
    "#If the \"compressed\" string would not become smaller than the original string, \n",
    "#return the original string."
   ]
  },
  {
   "cell_type": "code",
   "execution_count": 17,
   "metadata": {},
   "outputs": [],
   "source": [
    "def compress_string(s):\n",
    "    if len(s) < 1:\n",
    "        return s\n",
    "    compressed = ''\n",
    "    current_char = s[0]\n",
    "    count = 1\n",
    "    for i in range(1, len(s)):\n",
    "        if s[i] == current_char:\n",
    "            count += 1\n",
    "        else:\n",
    "            compressed += '{}{}'.format(current_char, count)\n",
    "            current_char = s[i]\n",
    "            count = 1\n",
    "            \n",
    "    compressed += '{}{}'.format(current_char, count)\n",
    "\n",
    "    if len(compressed) < len(s):\n",
    "        return compressed\n",
    "    return s"
   ]
  },
  {
   "cell_type": "code",
   "execution_count": 19,
   "metadata": {},
   "outputs": [],
   "source": [
    "assert compress_string('aabcccccaaa') == 'a2b1c5a3'\n",
    "assert compress_string('abcde') == 'abcde'"
   ]
  }
 ],
 "metadata": {
  "kernelspec": {
   "display_name": "Python 3",
   "language": "python",
   "name": "python3"
  },
  "language_info": {
   "codemirror_mode": {
    "name": "ipython",
    "version": 3
   },
   "file_extension": ".py",
   "mimetype": "text/x-python",
   "name": "python",
   "nbconvert_exporter": "python",
   "pygments_lexer": "ipython3",
   "version": "3.6.4"
  }
 },
 "nbformat": 4,
 "nbformat_minor": 2
}
