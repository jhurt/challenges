{
 "cells": [
  {
   "cell_type": "code",
   "execution_count": null,
   "metadata": {},
   "outputs": [],
   "source": [
    "def hash_code(k):\n",
    "    value = 0\n",
    "    for c in k:\n",
    "        value = value + ord(c)\n",
    "    return value\n",
    "\n",
    "hash_code('hello')"
   ]
  },
  {
   "cell_type": "code",
   "execution_count": null,
   "metadata": {
    "collapsed": true
   },
   "outputs": [],
   "source": [
    "# use chaining, allows many items to exist at the same location in the hash table.\n",
    "# linear probing allows one item per slot, but is harder to implement\n",
    "hash_array = []\n",
    "bucket_count = 10\n",
    "for i in range(bucket_count):\n",
    "    hash_array.append([])\n",
    "\n",
    "def index_in_hash_array(k):\n",
    "    code = hash_code(k)\n",
    "    return code % bucket_count\n",
    "\n",
    "def remove(k):\n",
    "    hash_array_index = index_in_hash_array(k)\n",
    "    for i in range(len(hash_array[hash_array_index])):\n",
    "        kv = hash_array[hash_array_index][i]\n",
    "        if k == kv[0]:\n",
    "            del hash_array[hash_array_index][i]\n",
    "            break\n",
    "\n",
    "def insert(k, v):\n",
    "    remove(k)\n",
    "    hash_array_index = index_in_hash_array(k)\n",
    "    hash_array[hash_array_index].append((k,v))\n",
    "\n",
    "def lookup(k):\n",
    "    hash_array_index = index_in_hash_array(k)\n",
    "    for kv in hash_array[hash_array_index]:\n",
    "        if kv[0] == k:\n",
    "            return kv[1]\n",
    "    return None\n"
   ]
  },
  {
   "cell_type": "code",
   "execution_count": null,
   "metadata": {},
   "outputs": [],
   "source": [
    "insert('abc', 100)\n",
    "insert('def', 100)\n",
    "insert('xyz', 11111)\n",
    "insert('aaa', 97)\n",
    "print(lookup('aaa'))"
   ]
  },
  {
   "cell_type": "code",
   "execution_count": null,
   "metadata": {},
   "outputs": [],
   "source": [
    "print(hash_array)"
   ]
  },
  {
   "cell_type": "code",
   "execution_count": null,
   "metadata": {
    "collapsed": true
   },
   "outputs": [],
   "source": []
  }
 ],
 "metadata": {
  "kernelspec": {
   "display_name": "Python 3",
   "language": "python",
   "name": "python3"
  },
  "language_info": {
   "codemirror_mode": {
    "name": "ipython",
    "version": 3
   },
   "file_extension": ".py",
   "mimetype": "text/x-python",
   "name": "python",
   "nbconvert_exporter": "python",
   "pygments_lexer": "ipython3",
   "version": "3.6.3"
  }
 },
 "nbformat": 4,
 "nbformat_minor": 2
}
