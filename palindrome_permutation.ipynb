{
 "cells": [
  {
   "cell_type": "code",
   "execution_count": null,
   "metadata": {},
   "outputs": [],
   "source": [
    "# Given a string, write a function to check if it is a permutation of a palindrome"
   ]
  },
  {
   "cell_type": "code",
   "execution_count": 6,
   "metadata": {},
   "outputs": [],
   "source": [
    "import re\n",
    "white_space_pattern = re.compile(r'\\s+')\n",
    "\n",
    "def is_palindrome_permutation(s):\n",
    "    s = s.lower()\n",
    "    s = re.sub(white_space_pattern, '', s)\n",
    "    char_to_count = {}\n",
    "    for c in s:\n",
    "        if c in char_to_count:\n",
    "            char_to_count[c] += 1\n",
    "        else:\n",
    "            char_to_count[c] = 1\n",
    "    \n",
    "    found_odd_char_count = False\n",
    "    for c in char_to_count:\n",
    "        if char_to_count[c] % 2 == 1:\n",
    "            if found_odd_char_count:\n",
    "                return False\n",
    "            else:\n",
    "                found_odd_char_count = True\n",
    "    return True\n"
   ]
  },
  {
   "cell_type": "code",
   "execution_count": 7,
   "metadata": {},
   "outputs": [],
   "source": [
    "assert is_palindrome_permutation('Taco Cat')\n",
    "assert is_palindrome_permutation('taco cat')\n",
    "assert is_palindrome_permutation('Toac tac')\n",
    "assert is_palindrome_permutation('occt aat')\n",
    "\n",
    "assert not is_palindrome_permutation('occt aata')\n",
    "assert not is_palindrome_permutation('occtt aat')\n"
   ]
  },
  {
   "cell_type": "code",
   "execution_count": null,
   "metadata": {},
   "outputs": [],
   "source": []
  }
 ],
 "metadata": {
  "kernelspec": {
   "display_name": "Python 3",
   "language": "python",
   "name": "python3"
  },
  "language_info": {
   "codemirror_mode": {
    "name": "ipython",
    "version": 3
   },
   "file_extension": ".py",
   "mimetype": "text/x-python",
   "name": "python",
   "nbconvert_exporter": "python",
   "pygments_lexer": "ipython3",
   "version": "3.6.4"
  }
 },
 "nbformat": 4,
 "nbformat_minor": 2
}
