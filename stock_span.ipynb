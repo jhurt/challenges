{
 "cells": [
  {
   "cell_type": "code",
   "execution_count": null,
   "metadata": {},
   "outputs": [],
   "source": [
    "# we have a series of n daily price quotes for a stock \n",
    "# and we need to calculate span of stock’s price for all n days. \n",
    "# The span Si of the stock’s price on a given day i is defined as\n",
    "# the maximum number of consecutive days just before the given day\n",
    "# for which the price of the stock on the current day is less than or equal to its price on the given day.\n",
    "\n",
    "# For example, if an array of 7 days prices is given as \n",
    "# {100, 80, 60, 70, 60, 75, 85}, then the span values for corresponding 7 days are {1, 1, 1, 2, 1, 4, 6}\n",
    "\n"
   ]
  },
  {
   "cell_type": "code",
   "execution_count": 23,
   "metadata": {},
   "outputs": [],
   "source": [
    "# O(N^2)\n",
    "def stock_span_dumb(prices):\n",
    "    S = [1 for i in range(len(prices))]\n",
    "    for i in range(1, len(prices)):\n",
    "        j = i - 1\n",
    "        while j >= 0 and prices[i] >= prices[j]:\n",
    "            S[i] += 1\n",
    "            j -= 1\n",
    "    return S\n"
   ]
  },
  {
   "cell_type": "code",
   "execution_count": 39,
   "metadata": {},
   "outputs": [],
   "source": [
    "# O(N) ???\n",
    "def stock_span(prices):\n",
    "    S = [1 for i in range(len(prices))]\n",
    "    \n",
    "    stack = [] \n",
    "    stack.append(0)\n",
    " \n",
    "    for i in range(1, len(prices)):\n",
    "        while len(stack) > 0 and prices[stack[-1]] <= prices[i]:\n",
    "            stack.pop()\n",
    "         \n",
    "        if len(stack) == 0:\n",
    "            S[i] = i + 1\n",
    "        else:\n",
    "            S[i] = i - stack[-1]\n",
    "            \n",
    "        stack.append(i)\n",
    "    return S"
   ]
  },
  {
   "cell_type": "code",
   "execution_count": 46,
   "metadata": {},
   "outputs": [],
   "source": [
    "def stock_span_again(prices):\n",
    "    counter = 0\n",
    "    S = [1 for i in range(len(prices))]\n",
    "    for i in range(len(prices)):\n",
    "        while counter >= 0 and price[counter] <= price[i]:\n",
    "            counter -= 1\n",
    "        \n",
    "        if counter < 0:\n",
    "            S[i] = i + 1\n",
    "        else:\n",
    "            S[i] = i - counter\n",
    "        \n",
    "        counter = i\n",
    "    return S\n"
   ]
  },
  {
   "cell_type": "code",
   "execution_count": 47,
   "metadata": {},
   "outputs": [
    {
     "data": {
      "text/plain": [
       "[1, 1, 1, 2, 1, 4, 6]"
      ]
     },
     "execution_count": 47,
     "metadata": {},
     "output_type": "execute_result"
    }
   ],
   "source": [
    "prices = [100, 80, 60, 70, 60, 75, 85]\n",
    "span = stock_span_again(prices)\n",
    "span"
   ]
  },
  {
   "cell_type": "code",
   "execution_count": 29,
   "metadata": {},
   "outputs": [
    {
     "data": {
      "text/plain": [
       "[1, 1, 1, 2, 1, 4, 6]"
      ]
     },
     "execution_count": 29,
     "metadata": {},
     "output_type": "execute_result"
    }
   ],
   "source": [
    "span = stock_span_dumb(prices)\n",
    "span"
   ]
  },
  {
   "cell_type": "code",
   "execution_count": 38,
   "metadata": {},
   "outputs": [
    {
     "name": "stdout",
     "output_type": "stream",
     "text": [
      "1\n",
      "1\n",
      "2\n",
      "3\n",
      "4\n",
      "5\n",
      "6\n"
     ]
    }
   ],
   "source": [
    "# A linear time solution for stack stock problem\n",
    " \n",
    "# A stack based efficient method to calculate s\n",
    "def calculateSpan(price, S):\n",
    "     \n",
    "    n = len(price)\n",
    "    # Create a stack and push index of fist element to it\n",
    "    st = [] \n",
    "    st.append(0)\n",
    " \n",
    "    # Span value of first element is always 1\n",
    "    S[0] = 1\n",
    " \n",
    "    # Calculate span values for rest of the elements\n",
    "    for i in range(1, n):\n",
    "         \n",
    "        # Pop elements from stack whlie stack is not\n",
    "        # empty and top of stack is smaller than price[i]\n",
    "        while( len(st) > 0 and price[st[0]] <= price[i]):\n",
    "            st.pop()\n",
    " \n",
    "        # If stack becomes empty, then price[i] is greater\n",
    "        # than all elements on left of it, i.e. price[0],\n",
    "        # price[1], ..price[i-1]. Else the price[i]  is\n",
    "        # greater than elements after top of stack\n",
    "        S[i] = i+1 if len(st) <= 0 else (i - st[0])\n",
    " \n",
    "        # Push this element to stack\n",
    "        st.append(i)\n",
    " \n",
    " \n",
    "# A utility function to print elements of array\n",
    "def printArray(arr, n):\n",
    "    for i in range(0,n):\n",
    "        print(arr[i])\n",
    " \n",
    " \n",
    "# Driver program to test above function\n",
    "price = [100, 80, 60, 70, 60, 75, 85]\n",
    "S = [0 for i in range(len(price)+1)]\n",
    " \n",
    "# Fill the span values in array S[]\n",
    "calculateSpan(price, S)\n",
    " \n",
    "# Print the calculated span values\n",
    "printArray(S, len(price))\n",
    " "
   ]
  },
  {
   "cell_type": "code",
   "execution_count": null,
   "metadata": {},
   "outputs": [],
   "source": []
  }
 ],
 "metadata": {
  "kernelspec": {
   "display_name": "Python 3",
   "language": "python",
   "name": "python3"
  },
  "language_info": {
   "codemirror_mode": {
    "name": "ipython",
    "version": 3
   },
   "file_extension": ".py",
   "mimetype": "text/x-python",
   "name": "python",
   "nbconvert_exporter": "python",
   "pygments_lexer": "ipython3",
   "version": "3.6.4"
  }
 },
 "nbformat": 4,
 "nbformat_minor": 2
}
