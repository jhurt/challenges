{
 "cells": [
  {
   "cell_type": "code",
   "execution_count": null,
   "metadata": {},
   "outputs": [],
   "source": [
    "# Given an array of positive numbers, \n",
    "# find the maximum sum of a subsequence with the constraint \n",
    "# that no 2 numbers in the sequence should be adjacent in the array. \n",
    "\n",
    "# Input : arr[] = {5, 5, 10, 100, 10, 5}\n",
    "# Output : 110\n",
    "\n",
    "# Input : arr[] = {1, 2, 3}\n",
    "# Output : 4\n",
    "\n",
    "# Input : arr[] = {1, 20, 3}\n",
    "# Output : 20\n",
    "\n"
   ]
  },
  {
   "cell_type": "code",
   "execution_count": 5,
   "metadata": {},
   "outputs": [],
   "source": [
    "def max_sum(x):\n",
    "    max_including_i = 0\n",
    "    max_excluding_i = 0\n",
    "    \n",
    "    for i in x:\n",
    "        new_max_excluding_i = max(max_including_i, max_excluding_i)\n",
    "\n",
    "        max_including_i = max_excluding_i + i\n",
    "        max_excluding_i = new_max_excluding_i\n",
    "     \n",
    "    return max(max_including_i, max_excluding_i)\n",
    " "
   ]
  },
  {
   "cell_type": "code",
   "execution_count": 6,
   "metadata": {},
   "outputs": [
    {
     "data": {
      "text/plain": [
       "110"
      ]
     },
     "execution_count": 6,
     "metadata": {},
     "output_type": "execute_result"
    }
   ],
   "source": [
    "max_sum([5, 5, 10, 100, 10, 5])"
   ]
  },
  {
   "cell_type": "code",
   "execution_count": 7,
   "metadata": {},
   "outputs": [
    {
     "data": {
      "text/plain": [
       "4"
      ]
     },
     "execution_count": 7,
     "metadata": {},
     "output_type": "execute_result"
    }
   ],
   "source": [
    "max_sum([1, 2, 3])\n"
   ]
  },
  {
   "cell_type": "code",
   "execution_count": 8,
   "metadata": {},
   "outputs": [
    {
     "data": {
      "text/plain": [
       "20"
      ]
     },
     "execution_count": 8,
     "metadata": {},
     "output_type": "execute_result"
    }
   ],
   "source": [
    "max_sum([1, 20, 3])\n"
   ]
  },
  {
   "cell_type": "code",
   "execution_count": null,
   "metadata": {},
   "outputs": [],
   "source": []
  }
 ],
 "metadata": {
  "kernelspec": {
   "display_name": "Python 3",
   "language": "python",
   "name": "python3"
  },
  "language_info": {
   "codemirror_mode": {
    "name": "ipython",
    "version": 3
   },
   "file_extension": ".py",
   "mimetype": "text/x-python",
   "name": "python",
   "nbconvert_exporter": "python",
   "pygments_lexer": "ipython3",
   "version": "3.6.4"
  }
 },
 "nbformat": 4,
 "nbformat_minor": 2
}
