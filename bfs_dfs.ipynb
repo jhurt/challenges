{
 "cells": [
  {
   "cell_type": "code",
   "execution_count": null,
   "metadata": {},
   "outputs": [],
   "source": [
    "#         1\n",
    "#        / \\\n",
    "#       /   \\\n",
    "#      /     \\\n",
    "#     2       3\n",
    "#    / \\     / \\\n",
    "#   4   5   6   7\n",
    "#  /   / \\     / \\\n",
    "# 8   9  10  11   12\n",
    "#        /\n",
    "#       13"
   ]
  },
  {
   "cell_type": "code",
   "execution_count": null,
   "metadata": {},
   "outputs": [],
   "source": [
    "# You visit every edge at most twice. \n",
    "# There are E edges. So there will be 2*E edge visit operations. \n",
    "# Plus the nodes those have no edges or in other words, with degree 0. \n",
    "# There can be at most V such nodes. So the complexity turns out to be, O(2*E + V) = O(E + V)"
   ]
  },
  {
   "cell_type": "code",
   "execution_count": null,
   "metadata": {},
   "outputs": [],
   "source": [
    "tree = {1: [2, 3],\n",
    "        2: [4, 5],\n",
    "        3: [6, 7],\n",
    "        4: [8],\n",
    "        5: [9, 10],\n",
    "        6: [],\n",
    "        7: [11, 12],\n",
    "        8: [],\n",
    "        9: [],\n",
    "        10: [13],\n",
    "        11:[],\n",
    "        12:[],\n",
    "        13:[]}"
   ]
  },
  {
   "cell_type": "code",
   "execution_count": null,
   "metadata": {},
   "outputs": [],
   "source": [
    "def dfs(tree, node):\n",
    "    print(node)\n",
    "    for child in tree[node]:\n",
    "        dfs(tree, child)\n",
    "    \n",
    "dfs(tree, 1)"
   ]
  },
  {
   "cell_type": "code",
   "execution_count": null,
   "metadata": {},
   "outputs": [],
   "source": [
    "def bfs(tree, root):\n",
    "    visited = set()\n",
    "    queue = [root]\n",
    "    while queue:\n",
    "        node = queue.pop(0)\n",
    "        if node not in visited:\n",
    "            print(node)\n",
    "            visited.add(node)\n",
    "            for child in tree[node]:\n",
    "                if child not in visited:\n",
    "                    queue.append(child)\n",
    "    return visited\n",
    "\n",
    "bfs(tree, 1)"
   ]
  },
  {
   "cell_type": "code",
   "execution_count": null,
   "metadata": {},
   "outputs": [],
   "source": [
    "def dfs_iterative(tree, root):\n",
    "    visited = set()\n",
    "    stack = [root]\n",
    "    while stack:\n",
    "        node = stack.pop()\n",
    "        if node not in visited:\n",
    "            print(node)\n",
    "            visited.add(node)\n",
    "            for child in reversed(tree[node]):\n",
    "                if child not in visited:\n",
    "                    stack.append(child)\n",
    "    return visited\n",
    "\n",
    "dfs_iterative(tree, 1)"
   ]
  },
  {
   "cell_type": "code",
   "execution_count": null,
   "metadata": {},
   "outputs": [],
   "source": []
  }
 ],
 "metadata": {
  "kernelspec": {
   "display_name": "Python 3",
   "language": "python",
   "name": "python3"
  },
  "language_info": {
   "codemirror_mode": {
    "name": "ipython",
    "version": 3
   },
   "file_extension": ".py",
   "mimetype": "text/x-python",
   "name": "python",
   "nbconvert_exporter": "python",
   "pygments_lexer": "ipython3",
   "version": "3.6.4"
  }
 },
 "nbformat": 4,
 "nbformat_minor": 2
}
