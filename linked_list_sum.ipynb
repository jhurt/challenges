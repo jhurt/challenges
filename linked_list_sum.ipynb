{
 "cells": [
  {
   "cell_type": "code",
   "execution_count": null,
   "metadata": {},
   "outputs": [],
   "source": [
    "# Add two numbers represented by linked lists\n",
    "\n",
    "# Input:\n",
    "#   First List: 5->6->3  // represents number 365\n",
    "#   Second List: 8->4->2 //  represents number 248\n",
    "# Output\n",
    "#   Resultant list: 3->1->6  // represents number 613"
   ]
  },
  {
   "cell_type": "code",
   "execution_count": 3,
   "metadata": {},
   "outputs": [],
   "source": [
    "class Node:\n",
    "    def __init__(self, data):\n",
    "        self.data = data\n",
    "        self.next_node = None\n",
    "\n",
    "class LinkedList:\n",
    "    def __init__(self, head=None):\n",
    "        self.head = head\n",
    "\n",
    "    def insert(self, data):\n",
    "        node = Node(data)\n",
    "        if self.head is None:\n",
    "            self.head = node\n",
    "        else:\n",
    "            n = self.head\n",
    "            while n.next_node:\n",
    "                n = n.next_node\n",
    "            n.next_node = node\n",
    "\n",
    "    def pop(self):\n",
    "        h = self.head\n",
    "        if h:\n",
    "            self.head = h.next_node\n",
    "        else:\n",
    "            self.head = None\n",
    "        return h\n",
    "\n",
    "    def is_empty(self):\n",
    "        return self.head is None\n",
    "\n",
    "    def print_list(self):\n",
    "        n = self.head\n",
    "        while n:\n",
    "            print(n.data),\n",
    "            n = n.next_node"
   ]
  },
  {
   "cell_type": "code",
   "execution_count": 8,
   "metadata": {},
   "outputs": [],
   "source": [
    "def sum_lists(x, y):\n",
    "    index = 0\n",
    "    total = 0\n",
    "    while not x.is_empty() or not y.is_empty():\n",
    "        x_i = x.pop()\n",
    "        y_i = y.pop()\n",
    "        if x_i is None:\n",
    "            x_value = 0\n",
    "        else:\n",
    "            x_value = x_i.data\n",
    "        if y_i is None:\n",
    "            y_value = 0\n",
    "        else:\n",
    "            y_value = y_i.data\n",
    "            \n",
    "        total += (x_value * (10**index)) + (y_value* (10**index))\n",
    "        index += 1\n",
    "    return total"
   ]
  },
  {
   "cell_type": "code",
   "execution_count": 10,
   "metadata": {},
   "outputs": [
    {
     "name": "stdout",
     "output_type": "stream",
     "text": [
      "3898\n"
     ]
    }
   ],
   "source": [
    "x = LinkedList()\n",
    "x.insert(0)\n",
    "x.insert(5)\n",
    "x.insert(6)\n",
    "x.insert(3)\n",
    "\n",
    "y = LinkedList()\n",
    "y.insert(8)\n",
    "y.insert(4)\n",
    "y.insert(2)\n",
    "\n",
    "print(sum_lists(x, y))"
   ]
  },
  {
   "cell_type": "code",
   "execution_count": null,
   "metadata": {},
   "outputs": [],
   "source": []
  }
 ],
 "metadata": {
  "kernelspec": {
   "display_name": "Python 3",
   "language": "python",
   "name": "python3"
  },
  "language_info": {
   "codemirror_mode": {
    "name": "ipython",
    "version": 3
   },
   "file_extension": ".py",
   "mimetype": "text/x-python",
   "name": "python",
   "nbconvert_exporter": "python",
   "pygments_lexer": "ipython3",
   "version": "3.6.4"
  }
 },
 "nbformat": 4,
 "nbformat_minor": 2
}
