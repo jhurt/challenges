{
 "cells": [
  {
   "cell_type": "code",
   "execution_count": 1,
   "metadata": {},
   "outputs": [
    {
     "name": "stdout",
     "output_type": "stream",
     "text": [
      "2000\n",
      "1000\n",
      "400\n"
     ]
    }
   ],
   "source": [
    "# use sort: O(NlogN)\n",
    "def k_largest(x, k):\n",
    "    x.sort(reverse=True)\n",
    "    for i in range(k):\n",
    "        print(x[i])\n",
    "\n",
    "x = [10, 100, 30, 400, 1, -1, 1000, 2000, 3, 4, 5, 6, 7]\n",
    "k_largest(x, 3)\n",
    "    "
   ]
  },
  {
   "cell_type": "code",
   "execution_count": null,
   "metadata": {},
   "outputs": [],
   "source": [
    "# use binary heap - a complete tree \n",
    "# the key at root must be the max among all keys present\n",
    "# the same property must be recursively true for all nodes\n",
    "# typically represented as array\n",
    "# root element will be at x[0]\n",
    "# x[i/2] returns the parent node\n",
    "# x[(2*i)+1] returns the left child node\n",
    "# x[(2*i)+2] returns the right child node\n",
    "\n",
    "# operations:\n",
    "# get_max() O(1)\n",
    "# extract_max() removes the max element O(logN) as this operation needs to maintain the heap property (by calling heapify()) after removing root.\n",
    "# insert() O(logN) might need to fix a violated heap property\n",
    "# delete() O(logN) might need to fix a violated heap property\n",
    "\n",
    "# 1. build a max heap tree in O(n)\n",
    "# 2. Use extract_max k times O(KlogN)\n",
    "def k_largest(x, k):\n",
    "    max_heap = MaxHeap(x)\n",
    "    for i in range(k):\n",
    "        max_element = max_heap.extract_max()\n",
    "        print(max_element)\n",
    "\n",
    "\n",
    "\n",
    "\n",
    "\n"
   ]
  }
 ],
 "metadata": {
  "kernelspec": {
   "display_name": "Python 3",
   "language": "python",
   "name": "python3"
  },
  "language_info": {
   "codemirror_mode": {
    "name": "ipython",
    "version": 3
   },
   "file_extension": ".py",
   "mimetype": "text/x-python",
   "name": "python",
   "nbconvert_exporter": "python",
   "pygments_lexer": "ipython3",
   "version": "3.6.4"
  }
 },
 "nbformat": 4,
 "nbformat_minor": 2
}
