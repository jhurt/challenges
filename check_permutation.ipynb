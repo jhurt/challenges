{
 "cells": [
  {
   "cell_type": "code",
   "execution_count": 8,
   "metadata": {},
   "outputs": [],
   "source": [
    "def get_char_to_count(a):\n",
    "    char_to_count = {}\n",
    "    for c in a:\n",
    "        if c in char_to_count:\n",
    "            char_to_count[c] += 1\n",
    "        else:\n",
    "            char_to_count[c] = 1\n",
    "    return char_to_count\n",
    "\n",
    "def is_permutation(a, b):\n",
    "    char_to_count_a = get_char_to_count(a)\n",
    "    char_to_count_b = get_char_to_count(b)\n",
    "    for c in char_to_count_a:\n",
    "        if c not in char_to_count_b:\n",
    "            return False\n",
    "        if char_to_count_a[c] != char_to_count_b[c]:\n",
    "            return False\n",
    "    return True\n"
   ]
  },
  {
   "cell_type": "code",
   "execution_count": 9,
   "metadata": {},
   "outputs": [],
   "source": [
    "assert is_permutation('abc', 'bca')\n",
    "assert is_permutation('abc', 'cab')\n",
    "assert is_permutation('abc', 'bac')\n",
    "assert is_permutation('abc', 'abc')\n",
    "assert is_permutation('abc', 'acb')\n",
    "\n",
    "assert not is_permutation('abc', 'aab')\n",
    "assert not is_permutation('abc', 'abca')\n",
    "assert not is_permutation('abc', 'bcab')\n",
    "assert not is_permutation('abc', 'abd')\n"
   ]
  },
  {
   "cell_type": "code",
   "execution_count": null,
   "metadata": {},
   "outputs": [],
   "source": []
  }
 ],
 "metadata": {
  "kernelspec": {
   "display_name": "Python 3",
   "language": "python",
   "name": "python3"
  },
  "language_info": {
   "codemirror_mode": {
    "name": "ipython",
    "version": 3
   },
   "file_extension": ".py",
   "mimetype": "text/x-python",
   "name": "python",
   "nbconvert_exporter": "python",
   "pygments_lexer": "ipython3",
   "version": "3.6.4"
  }
 },
 "nbformat": 4,
 "nbformat_minor": 2
}
