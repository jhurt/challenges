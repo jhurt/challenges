{
 "cells": [
  {
   "cell_type": "code",
   "execution_count": null,
   "metadata": {},
   "outputs": [],
   "source": [
    "#         1\n",
    "#        / \\\n",
    "#       /   \\\n",
    "#      /     \\\n",
    "#     2       3\n",
    "#    / \\     / \\\n",
    "#   4   5   6   7\n",
    "#  /   / \\     / \\\n",
    "# 8   9  10  11   12\n",
    "#        /\n",
    "#       13"
   ]
  },
  {
   "cell_type": "code",
   "execution_count": 2,
   "metadata": {},
   "outputs": [],
   "source": [
    "tree = {1: [2, 3],\n",
    "        2: [4, 5],\n",
    "        3: [6, 7],\n",
    "        4: [8],\n",
    "        5: [9, 10],\n",
    "        6: [],\n",
    "        7: [11, 12],\n",
    "        8: [],\n",
    "        9: [],\n",
    "        10: [13],\n",
    "        11:[],\n",
    "        12:[],\n",
    "        13:[]}"
   ]
  },
  {
   "cell_type": "code",
   "execution_count": 3,
   "metadata": {},
   "outputs": [],
   "source": [
    "#Given a directed graph, design an algorithm to find out whether there is a route between two nodes."
   ]
  },
  {
   "cell_type": "code",
   "execution_count": 7,
   "metadata": {},
   "outputs": [],
   "source": [
    "def route_exists(tree, node_a, node_b):\n",
    "    if node_a == node_b:\n",
    "        return True\n",
    "    for child in tree[node_a]:\n",
    "        if route_exists(tree, child, node_b):\n",
    "            return True\n",
    "    return False\n",
    "    "
   ]
  },
  {
   "cell_type": "code",
   "execution_count": 8,
   "metadata": {},
   "outputs": [],
   "source": [
    "assert route_exists(tree, 1, 10)\n",
    "assert route_exists(tree, 2, 13)\n",
    "\n",
    "assert not route_exists(tree, 5, 6)\n",
    "assert not route_exists(tree, 8, 12)"
   ]
  },
  {
   "cell_type": "code",
   "execution_count": null,
   "metadata": {},
   "outputs": [],
   "source": []
  }
 ],
 "metadata": {
  "kernelspec": {
   "display_name": "Python 3",
   "language": "python",
   "name": "python3"
  },
  "language_info": {
   "codemirror_mode": {
    "name": "ipython",
    "version": 3
   },
   "file_extension": ".py",
   "mimetype": "text/x-python",
   "name": "python",
   "nbconvert_exporter": "python",
   "pygments_lexer": "ipython3",
   "version": "3.6.4"
  }
 },
 "nbformat": 4,
 "nbformat_minor": 2
}
