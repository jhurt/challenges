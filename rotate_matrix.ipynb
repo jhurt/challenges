{
 "cells": [
  {
   "cell_type": "code",
   "execution_count": null,
   "metadata": {},
   "outputs": [],
   "source": [
    "# Given an square matrix, turn it by 90 degrees in anti-clockwise direction without using any extra space.\n",
    "\n",
    "# Input\n",
    "#  1  2  3\n",
    "#  4  5  6\n",
    "#  7  8  9\n",
    "\n",
    "# Output:\n",
    "#  3  6  9 \n",
    "#  2  5  8 \n",
    "#  1  4  7 \n",
    "\n",
    "# Input:\n",
    "#  1  2  3  4 \n",
    "#  5  6  7  8 \n",
    "#  9 10 11 12 \n",
    "# 13 14 15 16 \n",
    "\n",
    "# Output:\n",
    "#  4  8 12 16 \n",
    "#  3  7 11 15 \n",
    "#  2  6 10 14 \n",
    "#  1  5  9 13"
   ]
  },
  {
   "cell_type": "code",
   "execution_count": 17,
   "metadata": {},
   "outputs": [],
   "source": [
    "def rotate(matrix):\n",
    "    N = len(matrix)\n",
    "    for i in range(0, int(N / 2)):\n",
    "        for j in range(i, N - i -1):\n",
    "            temp = matrix[i][j]\n",
    "            # move values from right to top\n",
    "            matrix[i][j] = matrix[j][N - 1 - i]\n",
    "            # move values from bottom to right\n",
    "            matrix[j][N - 1 - i] = matrix[N -1 - i][N - 1 - j] \n",
    "            # move values from left to bottom\n",
    "            matrix[N - 1 - i][N - 1 - j] = matrix[N - 1 - j][i] \n",
    "            # assign temp to left\n",
    "            matrix[N - 1 - j][i] = temp\n",
    "    return matrix\n",
    "\n",
    "def create_matrix(N):\n",
    "    matrix = []\n",
    "    index = 0\n",
    "    for i in range(N):\n",
    "        row = []\n",
    "        for j in range(N):\n",
    "            row.append(index+1)\n",
    "            index += 1\n",
    "        matrix.append(row)\n",
    "    return matrix\n"
   ]
  },
  {
   "cell_type": "code",
   "execution_count": 18,
   "metadata": {},
   "outputs": [
    {
     "data": {
      "text/plain": [
       "[[1, 2, 3, 4], [5, 6, 7, 8], [9, 10, 11, 12], [13, 14, 15, 16]]"
      ]
     },
     "execution_count": 18,
     "metadata": {},
     "output_type": "execute_result"
    }
   ],
   "source": [
    "x = create_matrix(4)\n",
    "x"
   ]
  },
  {
   "cell_type": "code",
   "execution_count": 19,
   "metadata": {},
   "outputs": [
    {
     "data": {
      "text/plain": [
       "[[4, 8, 12, 16], [3, 7, 11, 15], [2, 6, 10, 14], [1, 5, 9, 13]]"
      ]
     },
     "execution_count": 19,
     "metadata": {},
     "output_type": "execute_result"
    }
   ],
   "source": [
    "y = rotate(x)\n",
    "y"
   ]
  },
  {
   "cell_type": "code",
   "execution_count": null,
   "metadata": {},
   "outputs": [],
   "source": []
  }
 ],
 "metadata": {
  "kernelspec": {
   "display_name": "Python 3",
   "language": "python",
   "name": "python3"
  },
  "language_info": {
   "codemirror_mode": {
    "name": "ipython",
    "version": 3
   },
   "file_extension": ".py",
   "mimetype": "text/x-python",
   "name": "python",
   "nbconvert_exporter": "python",
   "pygments_lexer": "ipython3",
   "version": "3.6.4"
  }
 },
 "nbformat": 4,
 "nbformat_minor": 2
}
