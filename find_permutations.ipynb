{
 "cells": [
  {
   "cell_type": "code",
   "execution_count": null,
   "metadata": {
    "collapsed": true
   },
   "outputs": [],
   "source": [
    "#Given a smaller string S and a bigger string B, \n",
    "#design an algorithm to findnd all permutations of S within B.\n",
    "#Print the location of each permutation."
   ]
  },
  {
   "cell_type": "code",
   "execution_count": null,
   "metadata": {
    "collapsed": true
   },
   "outputs": [],
   "source": [
    "S = 'abbc'\n",
    "B = 'cbabadcbbabbcbabaabccbabc'"
   ]
  },
  {
   "cell_type": "code",
   "execution_count": null,
   "metadata": {
    "collapsed": true
   },
   "outputs": [],
   "source": [
    "import itertools\n",
    "\n",
    "def permutations_of_string(s):\n",
    "    all_permutations = [''.join(permutation) for permutation in itertools.permutations(s)]\n",
    "    return set(all_permutations)"
   ]
  },
  {
   "cell_type": "code",
   "execution_count": null,
   "metadata": {},
   "outputs": [],
   "source": [
    "def generate_permutations(s):\n",
    "    if len(s) == 1:\n",
    "        return set([s])\n",
    "    if len(s) == 2:\n",
    "        return set([s[0] + s[1], s[1] + s[0]])\n",
    "    if len(s) == 3:\n",
    "        all_perms = set()\n",
    "        perms = generate_permutations(s[:2])\n",
    "        for perm in perms:\n",
    "            all_perms.add(s[2] + perm)\n",
    "            for i in range(len(perm) - 1):\n",
    "                all_perms.add(perm[i] + s[2] + perm[i+1:])\n",
    "            all_perms.add(perm + s[2])\n",
    "        return all_perms\n",
    "\n",
    "generate_permutations('abc')\n"
   ]
  },
  {
   "cell_type": "code",
   "execution_count": null,
   "metadata": {},
   "outputs": [],
   "source": [
    "def generate_permutations(s):\n",
    "    if len(s) == 1:\n",
    "        return set([s])\n",
    "    all_perms = set()\n",
    "    x = len(s) - 1\n",
    "    perms = generate_permutations(s[:x])\n",
    "    for perm in perms:\n",
    "        for i in range(len(perm) + 1):\n",
    "            all_perms.add(perm[:i] + s[x] + perm[i:])\n",
    "    return all_perms\n",
    "\n",
    "generate_permutations('abcd')"
   ]
  },
  {
   "cell_type": "code",
   "execution_count": null,
   "metadata": {},
   "outputs": [],
   "source": [
    "permutations = permutations_of_string(S)\n",
    "for i in range(len(B) - len(S) + 1):\n",
    "    substring_to_consider = B[i:i + len(S)]\n",
    "    if substring_to_consider in permutations:\n",
    "        print('{}: {}'.format(i, substring_to_consider))"
   ]
  },
  {
   "cell_type": "code",
   "execution_count": null,
   "metadata": {
    "collapsed": true
   },
   "outputs": [],
   "source": []
  }
 ],
 "metadata": {
  "kernelspec": {
   "display_name": "Python 3",
   "language": "python",
   "name": "python3"
  },
  "language_info": {
   "codemirror_mode": {
    "name": "ipython",
    "version": 3
   },
   "file_extension": ".py",
   "mimetype": "text/x-python",
   "name": "python",
   "nbconvert_exporter": "python",
   "pygments_lexer": "ipython3",
   "version": "3.6.3"
  }
 },
 "nbformat": 4,
 "nbformat_minor": 2
}
