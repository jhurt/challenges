{
 "cells": [
  {
   "cell_type": "code",
   "execution_count": null,
   "metadata": {},
   "outputs": [],
   "source": [
    "# Given an array of integers, write a function that returns true\n",
    "# if there is a triplet (a, b, c) that satisfies a2 + b2 = c2.\n"
   ]
  },
  {
   "cell_type": "code",
   "execution_count": null,
   "metadata": {},
   "outputs": [],
   "source": [
    "# naive way O(N^3)\n",
    "def pythagorean_triplet_exists(x):\n",
    "    for i in range(len(x)):\n",
    "        for j in range(len(x)):\n",
    "            for k in range(len(x)):\n",
    "                a, b, c = x[i], x[j], x[k]\n",
    "                if (a ** 2.0) + (b ** 2.0) == (c ** 2.0):\n",
    "                    return True\n",
    "    return False\n"
   ]
  },
  {
   "cell_type": "code",
   "execution_count": null,
   "metadata": {},
   "outputs": [],
   "source": [
    "# all possible pairs way O(N^2)\n",
    "def pythagorean_triplet_exists(x):\n",
    "    all_squares = set()\n",
    "    all_pairs = set()\n",
    "    for i in range(len(x)):\n",
    "        all_squares.add(x[i] ** 2.0)\n",
    "        for j in range(i+1, len(x)):\n",
    "            all_pairs.add((x[i], x[j]))\n",
    "    \n",
    "    for pair in all_pairs:\n",
    "        a, b = pair[0], pair[1]\n",
    "        c_squared = (a ** 2.0) + (b ** 2.0)\n",
    "        if c_squared in all_squares:\n",
    "            return True\n",
    "    return False"
   ]
  }
 ],
 "metadata": {
  "kernelspec": {
   "display_name": "Python 3",
   "language": "python",
   "name": "python3"
  },
  "language_info": {
   "codemirror_mode": {
    "name": "ipython",
    "version": 3
   },
   "file_extension": ".py",
   "mimetype": "text/x-python",
   "name": "python",
   "nbconvert_exporter": "python",
   "pygments_lexer": "ipython3",
   "version": "3.6.4"
  }
 },
 "nbformat": 4,
 "nbformat_minor": 2
}
