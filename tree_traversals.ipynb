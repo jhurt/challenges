{
 "cells": [
  {
   "cell_type": "code",
   "execution_count": null,
   "metadata": {},
   "outputs": [],
   "source": [
    "#         1\n",
    "#        / \\\n",
    "#       /   \\\n",
    "#      /     \\\n",
    "#     2       3\n",
    "#    / \\     / \\\n",
    "#   4   5   6   7\n",
    "#  /   / \\     / \\\n",
    "# 8   9  10  11   12\n",
    "#        /\n",
    "#       13"
   ]
  },
  {
   "cell_type": "code",
   "execution_count": null,
   "metadata": {},
   "outputs": [],
   "source": [
    "tree = {1: [2, 3],\n",
    "        2: [4, 5],\n",
    "        3: [6, 7],\n",
    "        4: [8],\n",
    "        5: [9, 10],\n",
    "        6: [],\n",
    "        7: [11, 12],\n",
    "        8: [],\n",
    "        9: [],\n",
    "        10: [13],\n",
    "        11:[],\n",
    "        12:[],\n",
    "        13:[]}"
   ]
  },
  {
   "cell_type": "code",
   "execution_count": null,
   "metadata": {},
   "outputs": [],
   "source": [
    "def get_left_child(tree, node):\n",
    "    if node in tree and len(tree[node]) > 0:\n",
    "        return tree[node][0]\n",
    "    return None\n",
    "\n",
    "def get_right_child(tree, node):\n",
    "    if node in tree and len(tree[node]) > 1:\n",
    "        return tree[node][1]\n",
    "    return None"
   ]
  },
  {
   "cell_type": "code",
   "execution_count": null,
   "metadata": {},
   "outputs": [],
   "source": [
    "# visit the left branch, then the current node, and finally, the right branch.\n",
    "def in_order(tree, node):\n",
    "    left_child = get_left_child(tree, node)\n",
    "    right_child = get_right_child(tree, node)\n",
    "    if left_child:\n",
    "        in_order(tree, left_child)\n",
    "    print(node)\n",
    "    if right_child:\n",
    "        in_order(tree, right_child)\n",
    "    \n",
    "in_order(tree, 1)    \n",
    "    "
   ]
  },
  {
   "cell_type": "code",
   "execution_count": null,
   "metadata": {},
   "outputs": [],
   "source": [
    "# visits the current node before its child nodes\n",
    "def pre_order(tree, node):\n",
    "    left_child = get_left_child(tree, node)\n",
    "    right_child = get_right_child(tree, node)\n",
    "    print(node)\n",
    "    if left_child:\n",
    "        pre_order(tree, left_child)\n",
    "    if right_child:\n",
    "        pre_order(tree, right_child)\n",
    "    \n",
    "pre_order(tree, 1)"
   ]
  },
  {
   "cell_type": "code",
   "execution_count": 9,
   "metadata": {},
   "outputs": [
    {
     "name": "stdout",
     "output_type": "stream",
     "text": [
      "8\n",
      "4\n",
      "9\n",
      "13\n",
      "10\n",
      "5\n",
      "2\n",
      "6\n",
      "11\n",
      "12\n",
      "7\n",
      "3\n",
      "1\n"
     ]
    }
   ],
   "source": [
    "# visits the current node after its child nodes\n",
    "def post_order(tree, node):\n",
    "    left_child = get_left_child(tree, node)\n",
    "    right_child = get_right_child(tree, node)\n",
    "    if left_child:\n",
    "        post_order(tree, left_child)\n",
    "    if right_child:\n",
    "        post_order(tree, right_child)\n",
    "    print(node)\n",
    "    \n",
    "post_order(tree, 1)"
   ]
  },
  {
   "cell_type": "code",
   "execution_count": null,
   "metadata": {},
   "outputs": [],
   "source": []
  }
 ],
 "metadata": {
  "kernelspec": {
   "display_name": "Python 3",
   "language": "python",
   "name": "python3"
  },
  "language_info": {
   "codemirror_mode": {
    "name": "ipython",
    "version": 3
   },
   "file_extension": ".py",
   "mimetype": "text/x-python",
   "name": "python",
   "nbconvert_exporter": "python",
   "pygments_lexer": "ipython3",
   "version": "3.6.4"
  }
 },
 "nbformat": 4,
 "nbformat_minor": 2
}
